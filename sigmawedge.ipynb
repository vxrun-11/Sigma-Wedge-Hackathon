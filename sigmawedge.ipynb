{
 "cells": [
  {
   "cell_type": "code",
   "execution_count": 15,
   "id": "6f869d5f-18d6-49af-9027-bb04a07ef8c8",
   "metadata": {
    "tags": []
   },
   "outputs": [
    {
     "name": "stdout",
     "output_type": "stream",
     "text": [
      "Field  Date      \n",
      "Close  2023-01-03    124.2163\n",
      "       2023-01-04    125.4975\n",
      "       2023-01-05    124.1666\n",
      "       2023-01-06    128.7352\n",
      "       2023-01-09    129.2616\n",
      "                       ...   \n",
      "       2023-12-22    193.3533\n",
      "       2023-12-26    192.8040\n",
      "       2023-12-27    192.9038\n",
      "       2023-12-28    193.3333\n",
      "       2023-12-29    192.2846\n",
      "Name: FIBBG000B9XRY4, Length: 250, dtype: float64\n"
     ]
    }
   ],
   "source": [
    "#first we extract the apple stock prices using moonshot by giving AAPL's stock id by specifiying the start and end date\n",
    "from quantrocket import get_prices\n",
    "start_date = '2023-01-01'\n",
    "end_date = '2023-12-31'\n",
    "prices = get_prices(\"usstock-free-1d\", universes=\"usstock-free\", start_date=start_date, end_date=end_date, fields=[\"Close\"])\n",
    "close_prices = prices['FIBBG000B9XRY4']\n",
    "print(close_prices)"
   ]
  },
  {
   "cell_type": "code",
   "execution_count": 16,
   "id": "b7cb55da-6d23-4f4d-a513-ebccdb62a91c",
   "metadata": {},
   "outputs": [
    {
     "name": "stdout",
     "output_type": "stream",
     "text": [
      "Field  Date      \n",
      "Close  2023-01-03         NaN\n",
      "       2023-01-04    0.010314\n",
      "       2023-01-05   -0.010605\n",
      "       2023-01-06    0.036794\n",
      "       2023-01-09    0.004089\n",
      "                       ...   \n",
      "       2023-12-22   -0.005547\n",
      "       2023-12-26   -0.002841\n",
      "       2023-12-27    0.000518\n",
      "       2023-12-28    0.002226\n",
      "       2023-12-29   -0.005424\n",
      "Name: FIBBG000B9XRY4, Length: 250, dtype: float64\n"
     ]
    }
   ],
   "source": [
    "#Next, we convert this into percentage\n",
    "data = close_prices.pct_change()\n",
    "print(data)"
   ]
  },
  {
   "cell_type": "code",
   "execution_count": 17,
   "id": "7945555b-c42c-4219-9353-5005a3999d9b",
   "metadata": {
    "tags": []
   },
   "outputs": [
    {
     "name": "stdout",
     "output_type": "stream",
     "text": [
      "[-1, 1, -1, 1, 0, 0, 1, 0, 1, 0, 0, 0, 1, 1, 1, 0, 1, 1, -1, 0, 0, 1, 1, -1, 1, -1, 0, 0, 1, 0, 1, -1, 0, -1, 0, 0, -1, 0, 0, -1, 0, 1, 1, -1, 0, -1, -1, 1, 1, 0, 1, 0, 1, 1, 0, 0, 0, -1, 0, 1, 0, 1, 0, 0, -1, 0, -1, 0, 0, 1, 0, 0, 0, 0, 0, 0, 0, 0, 0, 1, 0, 0, 0, 0, 0, 1, 0, 0, 1, 0, 0, 0, 0, 0, 1, 0, 0, -1, 0, 0, 1, 1, 0, 1, 0, 0, 0, 0, 1, 0, 1, 0, 0, 1, 0, 0, 0, 1, 0, 0, 1, 0, 0, 1, 0, 0, 0, 0, -1, 0, 0, 0, 0, 1, 0, 0, -1, 0, 0, 0, 0, 0, 1, 0, 0, -1, 0, -1, -1, 0, 0, 0, 0, 0, -1, 0, -1, 0, 0, 0, 1, -1, 1, 0, 1, 1, 0, 0, 0, -1, -1, 0, 0, -1, -1, 0, 0, 1, 0, -1, 0, 0, 0, -1, 0, 0, 0, 1, 0, 0, 0, 1, 0, 0, 0, 0, -1, 0, 0, 0, 0, -1, 0, 0, -1, -1, 0, 1, 0, 1, 1, 0, 1, 1, 0, 0, 1, 0, 1, 0, 0, 0, 0, 0, 0, 0, 0, 0, 0, 0, 0, 0, 1, 0, 1, 0, -1, 0, 1, 0, 0, 0, 0, -1, 0, 0, 0, 0, 0, 0]\n"
     ]
    }
   ],
   "source": [
    "#Then, we classify the data using as BULL, FLAT, BEAR using the given conditions\n",
    "values=[]\n",
    "\n",
    "for i in data:\n",
    "  if i>0.01:\n",
    "    values.append(1)\n",
    "  elif i > -0.01:\n",
    "    values.append(0)\n",
    "  else:\n",
    "    values.append(-1)\n",
    "print(values)"
   ]
  },
  {
   "cell_type": "code",
   "execution_count": 21,
   "id": "82d3f3c1-31e3-4e60-b768-fcbe07f83cca",
   "metadata": {
    "tags": []
   },
   "outputs": [
    {
     "name": "stdout",
     "output_type": "stream",
     "text": [
      "Portfolio value:  17\n",
      "\n",
      "Optimal indices:  [5, 7, 11, 15, 20, 27, 29, 40, 49, 51, 58, 60, 68, 78, 84, 87, 93, 99, 102, 107, 109, 112, 116, 119, 122, 132, 141, 159, 163, 176, 186, 190, 206, 208, 211, 215, 217, 231, 233, 237]\n",
      "\n",
      "Total optimal indices:  40\n",
      "\n",
      "Transition matrix: \n",
      " [[0.13888889 0.72222222 0.13888889]\n",
      " [0.14649682 0.59872611 0.25477707]\n",
      " [0.125      0.67857143 0.19642857]]\n"
     ]
    }
   ],
   "source": [
    "#Then, we find the portfolio value, optimal indices and the transition distribution table\n",
    "import numpy as np\n",
    "portfolio_value=0\n",
    "optimal_index=[]\n",
    "transition_matrix = np.zeros((3,3))\n",
    "\n",
    "#determining portfolio value and transition matrix\n",
    "for i in range(len(values)-1):\n",
    "  if values[i]==0 and values[i+1]==1:\n",
    "    portfolio_value+=1\n",
    "    optimal_index.append(i)\n",
    "  elif values[i]==0 and values[i+1]==-1:\n",
    "    portfolio_value-=1\n",
    "  transition_matrix[values[i]+1,values[i+1]+1]+=1\n",
    "\n",
    "print(\"Portfolio value: \",portfolio_value)\n",
    "print(\"\\nOptimal indices: \",optimal_index)\n",
    "print(\"\\nTotal optimal indices: \",len(optimal_index))\n",
    "\n",
    "\n",
    "#finding probability distribution using the transition matrix\n",
    "prob_distribution = np.zeros_like(transition_matrix)\n",
    "for i in range(len(transition_matrix)):\n",
    "    s = np.sum(transition_matrix[i])\n",
    "    if s!=0:\n",
    "        prob_distribution[i]=transition_matrix[i]/s\n",
    "        \n",
    "print(\"\\nTransition matrix: \\n\",prob_distribution)\n"
   ]
  },
  {
   "cell_type": "code",
   "execution_count": null,
   "id": "f5b9ebe9-f3d6-40b4-a87e-81a6681c8848",
   "metadata": {},
   "outputs": [],
   "source": []
  },
  {
   "cell_type": "code",
   "execution_count": null,
   "id": "9332f598-e094-4f28-8b98-224d2c161cd5",
   "metadata": {},
   "outputs": [],
   "source": []
  }
 ],
 "metadata": {
  "kernelspec": {
   "display_name": "Python 3.9",
   "language": "python",
   "name": "python3"
  },
  "language_info": {
   "codemirror_mode": {
    "name": "ipython",
    "version": 3
   },
   "file_extension": ".py",
   "mimetype": "text/x-python",
   "name": "python",
   "nbconvert_exporter": "python",
   "pygments_lexer": "ipython3",
   "version": "3.9.7"
  }
 },
 "nbformat": 4,
 "nbformat_minor": 5
}
